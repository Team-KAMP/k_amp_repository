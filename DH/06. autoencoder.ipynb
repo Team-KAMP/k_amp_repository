{
 "cells": [
  {
   "cell_type": "code",
   "execution_count": 6,
   "metadata": {},
   "outputs": [],
   "source": [
    "import numpy as np\n",
    "import pandas as pd\n",
    "import seaborn as sns\n",
    "import matplotlib.pyplot as plt\n",
    "import torch\n",
    "import torch.nn as nn\n",
    "import torch.optim as optim\n",
    "\n",
    "\n",
    "\n",
    "from torch.utils.data import DataLoader, TensorDataset\n",
    "from sklearn.model_selection import train_test_split\n",
    "from sklearn.preprocessing import RobustScaler\n",
    "from sklearn.metrics import classification_report, confusion_matrix, roc_auc_score, roc_curve, auc"
   ]
  },
  {
   "cell_type": "code",
   "execution_count": 2,
   "metadata": {},
   "outputs": [],
   "source": [
    "# 오토인코더 모델 정의\n",
    "class Autoencoder(nn.Module):\n",
    "    def __init__(self):\n",
    "        super(Autoencoder, self).__init__()\n",
    "        self.encoder = nn.Sequential(\n",
    "            nn.Linear(8, 4),\n",
    "            nn.ReLU(),\n",
    "            nn.Linear(4, 2), \n",
    "            nn.ReLU(),\n",
    "            nn.Linear(2, 1),\n",
    "            nn.ReLU()\n",
    "        )\n",
    "        self.decoder = nn.Sequential(\n",
    "            nn.Linear(1, 2),\n",
    "            nn.ReLU(),\n",
    "            nn.Linear(2, 4), \n",
    "            nn.ReLU(),\n",
    "            nn.Linear(4, 8),\n",
    "            nn.ReLU()\n",
    "        )\n",
    "\n",
    "    def forward(self, x):\n",
    "        encoded = self.encoder(x)\n",
    "        decoded = self.decoder(encoded)\n",
    "        return decoded\n"
   ]
  },
  {
   "cell_type": "code",
   "execution_count": 3,
   "metadata": {},
   "outputs": [
    {
     "name": "stderr",
     "output_type": "stream",
     "text": [
      "C:\\Users\\Public\\Documents\\ESTsoft\\CreatorTemp\\ipykernel_156232\\432801514.py:2: DtypeWarning: Columns (23) have mixed types. Specify dtype option on import or set low_memory=False.\n",
      "  data = pd.read_csv('./remove_outlier_dataset.csv', encoding='utf-8', index_col=0)\n"
     ]
    }
   ],
   "source": [
    "# 데이터 로드\n",
    "data = pd.read_csv('./remove_outlier_dataset.csv', encoding='utf-8', index_col=0)\n",
    "data[\"registration_time\"] = pd.to_datetime(data[\"registration_time\"])\n",
    "\n",
    "# 사용할 특성 선택\n",
    "features = ['count', 'cast_pressure', 'biscuit_thickness', \n",
    "            'upper_mold_temp1', 'upper_mold_temp2', \n",
    "            'lower_mold_temp1', 'lower_mold_temp2', \n",
    "            'sleeve_temperature']\n",
    "\n",
    "normal_data = data[data[\"passorfail\"] == 0][features]  # 정상 데이터\n",
    "outlier_data = data[data[\"passorfail\"] == 1][features]  # 이상치 데이터\n",
    "\n",
    "# 정상 데이터만 정규화\n",
    "scaler = RobustScaler()\n",
    "normal_data_scaled = scaler.fit_transform(normal_data)\n",
    "\n",
    "# 훈련 데이터와 테스트 데이터 분할 (정상 데이터만 사용)\n",
    "X_train, X_test, y_train, y_test = train_test_split(\n",
    "    normal_data_scaled,  # 정상 데이터만 사용\n",
    "    np.zeros(len(normal_data_scaled)),  # 정상 데이터 레이블 (0)\n",
    "    test_size=0.2, \n",
    "    random_state=42\n",
    ")\n",
    "\n",
    "# 테스트 데이터에 이상치 추가\n",
    "# 먼저, 테스트 데이터도 스케일링\n",
    "outlier_data_scaled = scaler.transform(outlier_data)\n",
    "X_test_combined = np.vstack((X_test, outlier_data_scaled))\n",
    "y_test_combined = np.concatenate((y_test, np.ones(len(outlier_data))))  # 이상치 레이블 (1)\n",
    "\n",
    "# PyTorch 텐서로 변환\n",
    "X_train_tensor = torch.tensor(X_train, dtype=torch.float32)\n",
    "X_test_tensor = torch.tensor(X_test_combined, dtype=torch.float32)\n",
    "y_train_tensor = torch.tensor(y_train, dtype=torch.float32)\n",
    "y_test_tensor = torch.tensor(y_test_combined, dtype=torch.float32)\n",
    "\n",
    "# 데이터 로더 생성\n",
    "train_dataset = TensorDataset(X_train_tensor, y_train_tensor)\n",
    "train_loader = DataLoader(train_dataset, batch_size=32, shuffle=True)"
   ]
  },
  {
   "cell_type": "code",
   "execution_count": 4,
   "metadata": {},
   "outputs": [
    {
     "name": "stdout",
     "output_type": "stream",
     "text": [
      "Epoch [10/100], Loss: 0.9369\n",
      "Epoch [20/100], Loss: 1.2693\n",
      "Epoch [30/100], Loss: 0.6911\n",
      "Epoch [40/100], Loss: 1.5960\n",
      "Epoch [50/100], Loss: 1.4307\n",
      "Epoch [60/100], Loss: 1.1177\n",
      "Epoch [70/100], Loss: 0.8433\n",
      "Epoch [80/100], Loss: 1.1268\n",
      "Epoch [90/100], Loss: 1.1884\n",
      "Epoch [100/100], Loss: 1.4802\n",
      "Optimal Threshold: 1.5176277160644531\n",
      "ROC AUC: 0.8919559245853028\n",
      "Confusion Matrix:\n",
      "[[15178  2348]\n",
      " [  881  2984]]\n",
      "\n",
      "Classification Report:\n",
      "              precision    recall  f1-score   support\n",
      "\n",
      "      Normal       0.95      0.87      0.90     17526\n",
      "     Outlier       0.56      0.77      0.65      3865\n",
      "\n",
      "    accuracy                           0.85     21391\n",
      "   macro avg       0.75      0.82      0.78     21391\n",
      "weighted avg       0.88      0.85      0.86     21391\n",
      "\n"
     ]
    }
   ],
   "source": [
    "# 모델, 손실 함수, 최적화 알고리즘 정의\n",
    "model = Autoencoder()\n",
    "criterion = nn.MSELoss()\n",
    "optimizer = optim.Adam(model.parameters(), lr=0.001)\n",
    "\n",
    "# 모델 학습\n",
    "num_epochs = 100\n",
    "for epoch in range(num_epochs):\n",
    "    model.train()\n",
    "    for inputs, _ in train_loader:\n",
    "        optimizer.zero_grad()\n",
    "        outputs = model(inputs)\n",
    "        loss = criterion(outputs, inputs)\n",
    "        loss.backward()\n",
    "        optimizer.step()\n",
    "    \n",
    "    if (epoch + 1) % 10 == 0:\n",
    "        print(f'Epoch [{epoch + 1}/{num_epochs}], Loss: {loss.item():.4f}')\n",
    "\n",
    "# 재구성 오류 계산\n",
    "model.eval()\n",
    "with torch.no_grad():\n",
    "    reconstructed = model(X_test_tensor)\n",
    "    mse = ((X_test_tensor - reconstructed) ** 2).mean(dim=1)  # 각 샘플에 대한 MSE 계산\n",
    "\n",
    "# ROC 곡선과 AUC 계산\n",
    "fpr, tpr, thresholds = roc_curve(y_test_combined, mse.numpy())\n",
    "roc_auc = auc(fpr, tpr)\n",
    "\n",
    "# 최적의 임계값 찾기\n",
    "optimal_idx = np.argmax(tpr - fpr)  # Youden's J statistic\n",
    "optimal_threshold = thresholds[optimal_idx]\n",
    "\n",
    "print(f'Optimal Threshold: {optimal_threshold}')\n",
    "print(f'ROC AUC: {roc_auc}')\n",
    "\n",
    "# 최적의 임계값으로 예측\n",
    "predictions = (mse.numpy() > optimal_threshold).astype(int)\n",
    "\n",
    "# 평가지표 계산\n",
    "print(\"Confusion Matrix:\")\n",
    "print(confusion_matrix(y_test_combined, predictions))\n",
    "print(\"\\nClassification Report:\")\n",
    "print(classification_report(y_test_combined, predictions, target_names=['Normal', 'Outlier']))"
   ]
  },
  {
   "cell_type": "code",
   "execution_count": 7,
   "metadata": {},
   "outputs": [
    {
     "name": "stdout",
     "output_type": "stream",
     "text": [
      "AUC: 0.8919559245853028\n",
      "Confusion Matrix:\n",
      "[[15178  2348]\n",
      " [  881  2984]]\n"
     ]
    },
    {
     "data": {
      "text/plain": [
       "Text(50.722222222222214, 0.5, 'True Label')"
      ]
     },
     "execution_count": 7,
     "metadata": {},
     "output_type": "execute_result"
    },
    {
     "data": {
      "image/png": "[encoded data removed]",
      "text/plain": [
       "<Figure size 640x480 with 2 Axes>"
      ]
     },
     "metadata": {},
     "output_type": "display_data"
    }
   ],
   "source": [
    "# 혼동 행렬\n",
    "# y_pred = (y_pred_prob > 0.5).astype(int)  # 0.5를 기준으로 이진 분류\n",
    "conf_matrix = confusion_matrix(y_test_tensor, predictions)\n",
    "\n",
    "print(f'AUC: {roc_auc}')\n",
    "print(f'Confusion Matrix:\\n{conf_matrix}')\n",
    "\n",
    "# 혼동 행렬 시각화\n",
    "# 시각화\n",
    "sns.heatmap(conf_matrix, annot=True ,fmt='', cmap='Blues')\n",
    "plt.xlabel('Predicted Label')\n",
    "plt.ylabel('True Label')"
   ]
  }
 ],
 "metadata": {
  "kernelspec": {
   "display_name": "kamp",
   "language": "python",
   "name": "python3"
  },
  "language_info": {
   "codemirror_mode": {
    "name": "ipython",
    "version": 3
   },
   "file_extension": ".py",
   "mimetype": "text/x-python",
   "name": "python",
   "nbconvert_exporter": "python",
   "pygments_lexer": "ipython3",
   "version": "3.10.15"
  }
 },
 "nbformat": 4,
 "nbformat_minor": 2
}
