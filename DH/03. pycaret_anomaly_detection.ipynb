{
 "cells": [
  {
   "cell_type": "code",
   "execution_count": 2,
   "metadata": {},
   "outputs": [],
   "source": [
    "import pandas as pd\n",
    "import numpy as np\n",
    "import matplotlib.pyplot as plt\n",
    "import seaborn as sns\n",
    "from pycaret.anomaly import *\n",
    "from sklearn.preprocessing import RobustScaler\n",
    "from sklearn.model_selection import train_test_split\n",
    "from sklearn.metrics import accuracy_score\n",
    "\n",
    "pd.options.display.float_format = '{:.5f}'.format"
   ]
  },
  {
   "cell_type": "code",
   "execution_count": 7,
   "metadata": {},
   "outputs": [],
   "source": [
    "data = pd.read_csv('./remove_outlier_dataset.csv', encoding='utf-8', index_col=0)\n",
    "data[\"registration_time\"] = pd.to_datetime(data[\"registration_time\"])\n",
    "data[\"working\"] = data[\"working\"].map({\"가동\":1,\"정지\":0})\n",
    "x = data.drop(axis=1, columns=\"passorfail\").drop(axis=1, columns=\"molten_temp_cate\").drop(axis=1, columns=\"biscuit_thickness_cate\")\n",
    "y = data[\"passorfail\"]\n",
    "x_train, x_test, y_train, y_test = train_test_split(x, y, train_size=0.7, shuffle=True, random_state=42, stratify=y)"
   ]
  },
  {
   "cell_type": "code",
   "execution_count": 8,
   "metadata": {},
   "outputs": [],
   "source": [
    "# models()"
   ]
  },
  {
   "cell_type": "code",
   "execution_count": 10,
   "metadata": {},
   "outputs": [],
   "source": [
    "class PycaretAD:\n",
    "    preds = {}\n",
    "    modelTypes = []\n",
    "    modelResults = {}\n",
    "    def __init__(self, x_train, x_test):\n",
    "        self.x_train = x_train\n",
    "        self.x_test = x_test\n",
    "        self.anomalySetup = setup(\n",
    "            data = x_train,\n",
    "            verbose = 0,\n",
    "            session_id = 123, \n",
    "            normalize = True, \n",
    "            normalize_method=\"robust\",\n",
    "            use_gpu = True\n",
    "            )\n",
    "\n",
    "    def train(self, modelType):\n",
    "        model = create_model(modelType)\n",
    "\n",
    "        self.modelResults[modelType] = {}\n",
    "\n",
    "        fitting = assign_model(model)\n",
    "        self.modelResults[modelType][\"model\"] = model\n",
    "\n",
    "        pred = predict_model(model, self.x_test)['Anomaly']\n",
    "        self.modelResults[modelType][\"pred\"] = pred\n",
    "        \n",
    "        print(accuracy_score(y_test, pred))\n"
   ]
  },
  {
   "cell_type": "code",
   "execution_count": 10,
   "metadata": {},
   "outputs": [],
   "source": [
    "pycaretAD = PycaretAD(x_train, x_test)"
   ]
  },
  {
   "cell_type": "code",
   "execution_count": 12,
   "metadata": {},
   "outputs": [
    {
     "data": {
      "text/html": [],
      "text/plain": [
       "<IPython.core.display.HTML object>"
      ]
     },
     "metadata": {},
     "output_type": "display_data"
    },
    {
     "data": {
      "text/html": [],
      "text/plain": [
       "<IPython.core.display.HTML object>"
      ]
     },
     "metadata": {},
     "output_type": "display_data"
    },
    {
     "data": {
      "text/html": [],
      "text/plain": [
       "<IPython.core.display.HTML object>"
      ]
     },
     "metadata": {},
     "output_type": "display_data"
    },
    {
     "name": "stdout",
     "output_type": "stream",
     "text": [
      "0.9327455552317109\n"
     ]
    }
   ],
   "source": [
    "pycaretAD.train(\"cluster\")"
   ]
  },
  {
   "cell_type": "code",
   "execution_count": 15,
   "metadata": {},
   "outputs": [
    {
     "data": {
      "text/html": [],
      "text/plain": [
       "<IPython.core.display.HTML object>"
      ]
     },
     "metadata": {},
     "output_type": "display_data"
    },
    {
     "data": {
      "text/html": [],
      "text/plain": [
       "<IPython.core.display.HTML object>"
      ]
     },
     "metadata": {},
     "output_type": "display_data"
    },
    {
     "data": {
      "text/html": [],
      "text/plain": [
       "<IPython.core.display.HTML object>"
      ]
     },
     "metadata": {},
     "output_type": "display_data"
    },
    {
     "name": "stdout",
     "output_type": "stream",
     "text": [
      "0.9596691926552026\n"
     ]
    }
   ],
   "source": [
    "pycaretAD.train(\"iforest\")"
   ]
  },
  {
   "cell_type": "code",
   "execution_count": 16,
   "metadata": {},
   "outputs": [
    {
     "data": {
      "text/html": [],
      "text/plain": [
       "<IPython.core.display.HTML object>"
      ]
     },
     "metadata": {},
     "output_type": "display_data"
    },
    {
     "data": {
      "text/html": [],
      "text/plain": [
       "<IPython.core.display.HTML object>"
      ]
     },
     "metadata": {},
     "output_type": "display_data"
    },
    {
     "data": {
      "text/html": [],
      "text/plain": [
       "<IPython.core.display.HTML object>"
      ]
     },
     "metadata": {},
     "output_type": "display_data"
    },
    {
     "name": "stdout",
     "output_type": "stream",
     "text": [
      "0.9345671815797144\n"
     ]
    }
   ],
   "source": [
    "pycaretAD.train(\"histogram\")"
   ]
  },
  {
   "cell_type": "code",
   "execution_count": 18,
   "metadata": {},
   "outputs": [
    {
     "data": {
      "text/html": [],
      "text/plain": [
       "<IPython.core.display.HTML object>"
      ]
     },
     "metadata": {},
     "output_type": "display_data"
    },
    {
     "data": {
      "text/html": [],
      "text/plain": [
       "<IPython.core.display.HTML object>"
      ]
     },
     "metadata": {},
     "output_type": "display_data"
    },
    {
     "data": {
      "text/html": [],
      "text/plain": [
       "<IPython.core.display.HTML object>"
      ]
     },
     "metadata": {},
     "output_type": "display_data"
    },
    {
     "name": "stdout",
     "output_type": "stream",
     "text": [
      "0.9305231710871466\n"
     ]
    }
   ],
   "source": [
    "pycaretAD.train(\"lof\")"
   ]
  },
  {
   "cell_type": "code",
   "execution_count": 20,
   "metadata": {},
   "outputs": [
    {
     "data": {
      "text/html": [],
      "text/plain": [
       "<IPython.core.display.HTML object>"
      ]
     },
     "metadata": {},
     "output_type": "display_data"
    },
    {
     "data": {
      "text/html": [],
      "text/plain": [
       "<IPython.core.display.HTML object>"
      ]
     },
     "metadata": {},
     "output_type": "display_data"
    },
    {
     "data": {
      "text/html": [],
      "text/plain": [
       "<IPython.core.display.HTML object>"
      ]
     },
     "metadata": {},
     "output_type": "display_data"
    },
    {
     "name": "stdout",
     "output_type": "stream",
     "text": [
      "0.9397041678810842\n"
     ]
    }
   ],
   "source": [
    "pycaretAD.train(\"pca\")"
   ]
  },
  {
   "cell_type": "code",
   "execution_count": 21,
   "metadata": {},
   "outputs": [
    {
     "data": {
      "text/html": [],
      "text/plain": [
       "<IPython.core.display.HTML object>"
      ]
     },
     "metadata": {},
     "output_type": "display_data"
    },
    {
     "data": {
      "text/html": [],
      "text/plain": [
       "<IPython.core.display.HTML object>"
      ]
     },
     "metadata": {},
     "output_type": "display_data"
    },
    {
     "data": {
      "text/html": [],
      "text/plain": [
       "<IPython.core.display.HTML object>"
      ]
     },
     "metadata": {},
     "output_type": "display_data"
    },
    {
     "name": "stdout",
     "output_type": "stream",
     "text": [
      "0.9471728359078986\n"
     ]
    }
   ],
   "source": [
    "pycaretAD.train(\"mcd\")"
   ]
  },
  {
   "cell_type": "code",
   "execution_count": 24,
   "metadata": {},
   "outputs": [],
   "source": [
    "modelList = [\"cluster\",\"iforest\",\"histogram\",\"lof\",\"pca\",\"mcd\"]"
   ]
  },
  {
   "cell_type": "code",
   "execution_count": 25,
   "metadata": {},
   "outputs": [],
   "source": [
    "preds = []\n",
    "for modelName in modelList:\n",
    "    preds.append(pycaretAD.modelResults[modelName][\"pred\"])"
   ]
  },
  {
   "cell_type": "code",
   "execution_count": 35,
   "metadata": {},
   "outputs": [],
   "source": [
    "pd.concat(preds + [y_test], axis=1, names=modelList + [\"passorfail\"]).to_csv(\"./pred_result.csv\")"
   ]
  },
  {
   "cell_type": "code",
   "execution_count": null,
   "metadata": {},
   "outputs": [],
   "source": [
    "pd.concat(preds,axis=1)"
   ]
  },
  {
   "cell_type": "code",
   "execution_count": null,
   "metadata": {},
   "outputs": [],
   "source": [
    "model_sod = create_model(\"sod\")\n",
    "fitting = assign_model(model_sod)\n",
    "pred = predict_model(model_sod, x_test)['Anomaly']\n",
    "print(accuracy_score(y_test, pred))"
   ]
  },
  {
   "cell_type": "code",
   "execution_count": 28,
   "metadata": {},
   "outputs": [
    {
     "data": {
      "text/plain": [
       "Index(['count', 'working', 'molten_temp', 'facility_operation_cycleTime',\n",
       "       'production_cycletime', 'low_section_speed', 'high_section_speed',\n",
       "       'molten_volume', 'cast_pressure', 'biscuit_thickness',\n",
       "       'upper_mold_temp1', 'upper_mold_temp2', 'upper_mold_temp3',\n",
       "       'lower_mold_temp1', 'lower_mold_temp2', 'lower_mold_temp3',\n",
       "       'sleeve_temperature', 'physical_strength', 'Coolant_temperature',\n",
       "       'EMS_operation_time', 'registration_time', 'tryshot_signal',\n",
       "       'mold_code', 'heating_furnace'],\n",
       "      dtype='object')"
      ]
     },
     "execution_count": 28,
     "metadata": {},
     "output_type": "execute_result"
    }
   ],
   "source": [
    "x_train.columns"
   ]
  },
  {
   "cell_type": "code",
   "execution_count": 32,
   "metadata": {},
   "outputs": [],
   "source": [
    "x_train2 = x_train[[\"cast_pressure\", \"biscuit_thickness\", \"lower_mold_temp2\", \"sleeve_temperature\"]]"
   ]
  },
  {
   "cell_type": "code",
   "execution_count": 33,
   "metadata": {},
   "outputs": [],
   "source": [
    "x_test2 = x_test[[\"cast_pressure\", \"biscuit_thickness\", \"lower_mold_temp2\", \"sleeve_temperature\"]]"
   ]
  },
  {
   "cell_type": "code",
   "execution_count": 26,
   "metadata": {},
   "outputs": [],
   "source": [
    "pycaretAD2 = PycaretAD(x_train2, x_test2)"
   ]
  },
  {
   "cell_type": "code",
   "execution_count": 27,
   "metadata": {},
   "outputs": [
    {
     "data": {
      "text/html": [],
      "text/plain": [
       "<IPython.core.display.HTML object>"
      ]
     },
     "metadata": {},
     "output_type": "display_data"
    },
    {
     "data": {
      "text/html": [],
      "text/plain": [
       "<IPython.core.display.HTML object>"
      ]
     },
     "metadata": {},
     "output_type": "display_data"
    },
    {
     "data": {
      "text/html": [],
      "text/plain": [
       "<IPython.core.display.HTML object>"
      ]
     },
     "metadata": {},
     "output_type": "display_data"
    },
    {
     "name": "stdout",
     "output_type": "stream",
     "text": [
      "0.9669921305741767\n"
     ]
    }
   ],
   "source": [
    "pycaretAD2.train(\"iforest\")"
   ]
  },
  {
   "cell_type": "code",
   "execution_count": 35,
   "metadata": {},
   "outputs": [
    {
     "data": {
      "text/plain": [
       "cast_pressure        324.98437\n",
       "biscuit_thickness     50.18238\n",
       "lower_mold_temp2     199.77845\n",
       "sleeve_temperature   417.64511\n",
       "dtype: float64"
      ]
     },
     "execution_count": 35,
     "metadata": {},
     "output_type": "execute_result"
    }
   ],
   "source": [
    "x_test2.mean()"
   ]
  },
  {
   "cell_type": "code",
   "execution_count": 38,
   "metadata": {},
   "outputs": [
    {
     "data": {
      "text/html": [
       "<div>\n",
       "<style scoped>\n",
       "    .dataframe tbody tr th:only-of-type {\n",
       "        vertical-align: middle;\n",
       "    }\n",
       "\n",
       "    .dataframe tbody tr th {\n",
       "        vertical-align: top;\n",
       "    }\n",
       "\n",
       "    .dataframe thead th {\n",
       "        text-align: right;\n",
       "    }\n",
       "</style>\n",
       "<table border=\"1\" class=\"dataframe\">\n",
       "  <thead>\n",
       "    <tr style=\"text-align: right;\">\n",
       "      <th></th>\n",
       "      <th>cast_pressure</th>\n",
       "      <th>biscuit_thickness</th>\n",
       "      <th>lower_mold_temp2</th>\n",
       "      <th>sleeve_temperature</th>\n",
       "    </tr>\n",
       "  </thead>\n",
       "  <tbody>\n",
       "    <tr>\n",
       "      <th>90523</th>\n",
       "      <td>333.00000</td>\n",
       "      <td>54.00000</td>\n",
       "      <td>219.00000</td>\n",
       "      <td>296.00000</td>\n",
       "    </tr>\n",
       "    <tr>\n",
       "      <th>81539</th>\n",
       "      <td>332.00000</td>\n",
       "      <td>49.00000</td>\n",
       "      <td>243.00000</td>\n",
       "      <td>102.00000</td>\n",
       "    </tr>\n",
       "    <tr>\n",
       "      <th>56775</th>\n",
       "      <td>329.00000</td>\n",
       "      <td>53.00000</td>\n",
       "      <td>181.00000</td>\n",
       "      <td>429.00000</td>\n",
       "    </tr>\n",
       "    <tr>\n",
       "      <th>12274</th>\n",
       "      <td>333.00000</td>\n",
       "      <td>53.00000</td>\n",
       "      <td>161.00000</td>\n",
       "      <td>504.00000</td>\n",
       "    </tr>\n",
       "    <tr>\n",
       "      <th>37784</th>\n",
       "      <td>331.00000</td>\n",
       "      <td>45.00000</td>\n",
       "      <td>256.00000</td>\n",
       "      <td>486.00000</td>\n",
       "    </tr>\n",
       "    <tr>\n",
       "      <th>...</th>\n",
       "      <td>...</td>\n",
       "      <td>...</td>\n",
       "      <td>...</td>\n",
       "      <td>...</td>\n",
       "    </tr>\n",
       "    <tr>\n",
       "      <th>10562</th>\n",
       "      <td>333.00000</td>\n",
       "      <td>54.00000</td>\n",
       "      <td>140.00000</td>\n",
       "      <td>474.00000</td>\n",
       "    </tr>\n",
       "    <tr>\n",
       "      <th>39428</th>\n",
       "      <td>331.00000</td>\n",
       "      <td>42.00000</td>\n",
       "      <td>180.00000</td>\n",
       "      <td>475.00000</td>\n",
       "    </tr>\n",
       "    <tr>\n",
       "      <th>6885</th>\n",
       "      <td>333.00000</td>\n",
       "      <td>45.00000</td>\n",
       "      <td>137.00000</td>\n",
       "      <td>498.00000</td>\n",
       "    </tr>\n",
       "    <tr>\n",
       "      <th>13704</th>\n",
       "      <td>331.00000</td>\n",
       "      <td>52.00000</td>\n",
       "      <td>199.00000</td>\n",
       "      <td>477.00000</td>\n",
       "    </tr>\n",
       "    <tr>\n",
       "      <th>19692</th>\n",
       "      <td>330.00000</td>\n",
       "      <td>48.00000</td>\n",
       "      <td>186.00000</td>\n",
       "      <td>474.00000</td>\n",
       "    </tr>\n",
       "  </tbody>\n",
       "</table>\n",
       "<p>27448 rows × 4 columns</p>\n",
       "</div>"
      ],
      "text/plain": [
       "       cast_pressure  biscuit_thickness  lower_mold_temp2  sleeve_temperature\n",
       "90523      333.00000           54.00000         219.00000           296.00000\n",
       "81539      332.00000           49.00000         243.00000           102.00000\n",
       "56775      329.00000           53.00000         181.00000           429.00000\n",
       "12274      333.00000           53.00000         161.00000           504.00000\n",
       "37784      331.00000           45.00000         256.00000           486.00000\n",
       "...              ...                ...               ...                 ...\n",
       "10562      333.00000           54.00000         140.00000           474.00000\n",
       "39428      331.00000           42.00000         180.00000           475.00000\n",
       "6885       333.00000           45.00000         137.00000           498.00000\n",
       "13704      331.00000           52.00000         199.00000           477.00000\n",
       "19692      330.00000           48.00000         186.00000           474.00000\n",
       "\n",
       "[27448 rows x 4 columns]"
      ]
     },
     "execution_count": 38,
     "metadata": {},
     "output_type": "execute_result"
    }
   ],
   "source": [
    "posiData = data[[\"cast_pressure\", \"biscuit_thickness\", \"lower_mold_temp2\", \"sleeve_temperature\",\"\"]]"
   ]
  }
 ],
 "metadata": {
  "kernelspec": {
   "display_name": "kamp",
   "language": "python",
   "name": "python3"
  },
  "language_info": {
   "codemirror_mode": {
    "name": "ipython",
    "version": 3
   },
   "file_extension": ".py",
   "mimetype": "text/x-python",
   "name": "python",
   "nbconvert_exporter": "python",
   "pygments_lexer": "ipython3",
   "version": "3.10.15"
  }
 },
 "nbformat": 4,
 "nbformat_minor": 2
}
