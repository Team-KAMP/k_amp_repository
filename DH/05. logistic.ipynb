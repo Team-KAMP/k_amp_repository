{
 "cells": [
  {
   "cell_type": "code",
   "execution_count": 85,
   "metadata": {},
   "outputs": [
    {
     "name": "stderr",
     "output_type": "stream",
     "text": [
      "C:\\Users\\Public\\Documents\\ESTsoft\\CreatorTemp\\ipykernel_108636\\339451885.py:5: DtypeWarning: Columns (23) have mixed types. Specify dtype option on import or set low_memory=False.\n",
      "  data = pd.read_csv('./remove_outlier_dataset.csv', encoding='utf-8', index_col=0)\n"
     ]
    },
    {
     "name": "stdout",
     "output_type": "stream",
     "text": [
      "Optimization terminated successfully.\n",
      "         Current function value: 0.076946\n",
      "         Iterations 11\n",
      "                           Logit Regression Results                           \n",
      "==============================================================================\n",
      "Dep. Variable:             passorfail   No. Observations:                91493\n",
      "Model:                          Logit   Df Residuals:                    91486\n",
      "Method:                           MLE   Df Model:                            6\n",
      "Date:                Sun, 03 Nov 2024   Pseudo R-squ.:                  0.5603\n",
      "Time:                        09:52:03   Log-Likelihood:                -7040.0\n",
      "converged:                       True   LL-Null:                       -16012.\n",
      "Covariance Type:            nonrobust   LLR p-value:                     0.000\n",
      "======================================================================================\n",
      "                         coef    std err          z      P>|z|      [0.025      0.975]\n",
      "--------------------------------------------------------------------------------------\n",
      "const                 30.2527      1.530     19.779      0.000      27.255      33.250\n",
      "cast_pressure         -0.0762      0.004    -17.590      0.000      -0.085      -0.068\n",
      "biscuit_thickness     -0.0216      0.002    -10.303      0.000      -0.026      -0.018\n",
      "sleeve_temperature    -0.0036      0.000    -15.879      0.000      -0.004      -0.003\n",
      "count                 -0.0031      0.000     -9.873      0.000      -0.004      -0.002\n",
      "upper_mold_temp2      -0.0209      0.001    -22.327      0.000      -0.023      -0.019\n",
      "lower_mold_temp2      -0.0159      0.001    -22.526      0.000      -0.017      -0.015\n",
      "======================================================================================\n"
     ]
    }
   ],
   "source": [
    "import pandas as pd\n",
    "import statsmodels.api as sm\n",
    "\n",
    "# 데이터 로드\n",
    "data = pd.read_csv('./remove_outlier_dataset.csv', encoding='utf-8', index_col=0)\n",
    "data[\"registration_time\"] = pd.to_datetime(data[\"registration_time\"])\n",
    "data.dropna(axis=0, subset=\"cast_pressure\", inplace=True)\n",
    "\n",
    "# 독립변수와 종속변수 설정\n",
    "X = data[[\"cast_pressure\", \"biscuit_thickness\", \"sleeve_temperature\", \"count\",'upper_mold_temp2','lower_mold_temp2'\n",
    "       ]]  # 독립변수 리스트\n",
    "y = data['passorfail']  # 종속변수\n",
    "\n",
    "# 상수항 추가\n",
    "X = sm.add_constant(X)\n",
    "\n",
    "# 로지스틱 회귀 모델 적합\n",
    "model = sm.Logit(y, X).fit()\n",
    "\n",
    "# 결과 출력\n",
    "print(model.summary())"
   ]
  },
  {
   "cell_type": "code",
   "execution_count": 86,
   "metadata": {},
   "outputs": [
    {
     "name": "stdout",
     "output_type": "stream",
     "text": [
      "AUC: 0.9020024168968775\n",
      "Confusion Matrix:\n",
      "[[87605    23]\n",
      " [ 1574  2291]]\n"
     ]
    }
   ],
   "source": [
    "from sklearn.metrics import roc_curve, auc, confusion_matrix\n",
    "\n",
    "# 예측 확률 계산\n",
    "y_pred_prob = model.predict(X)\n",
    "\n",
    "# ROC 곡선\n",
    "fpr, tpr, thresholds = roc_curve(y, y_pred_prob)\n",
    "roc_auc = auc(fpr, tpr)\n",
    "\n",
    "# 혼동 행렬\n",
    "y_pred = (y_pred_prob > 0.5).astype(int)  # 0.5를 기준으로 이진 분류\n",
    "conf_matrix = confusion_matrix(y, y_pred)\n",
    "\n",
    "print(f'AUC: {roc_auc}')\n",
    "print(f'Confusion Matrix:\\n{conf_matrix}')"
   ]
  },
  {
   "cell_type": "code",
   "execution_count": 87,
   "metadata": {},
   "outputs": [
    {
     "data": {
      "text/plain": [
       "Text(50.722222222222214, 0.5, 'True Label')"
      ]
     },
     "execution_count": 87,
     "metadata": {},
     "output_type": "execute_result"
    },
    {
     "data": {
      "image/png": "[encoded data removed]",
      "text/plain": [
       "<Figure size 640x480 with 2 Axes>"
      ]
     },
     "metadata": {},
     "output_type": "display_data"
    }
   ],
   "source": [
    "import matplotlib.pyplot as plt\n",
    "import seaborn as sns\n",
    "# 혼동 행렬 시각화\n",
    "# 시각화\n",
    "sns.heatmap(conf_matrix, annot=True ,fmt='', cmap='Blues')\n",
    "plt.xlabel('Predicted Label')\n",
    "plt.ylabel('True Label')"
   ]
  },
  {
   "cell_type": "code",
   "execution_count": null,
   "metadata": {},
   "outputs": [],
   "source": []
  }
 ],
 "metadata": {
  "kernelspec": {
   "display_name": "kamp",
   "language": "python",
   "name": "python3"
  },
  "language_info": {
   "codemirror_mode": {
    "name": "ipython",
    "version": 3
   },
   "file_extension": ".py",
   "mimetype": "text/x-python",
   "name": "python",
   "nbconvert_exporter": "python",
   "pygments_lexer": "ipython3",
   "version": "3.10.15"
  }
 },
 "nbformat": 4,
 "nbformat_minor": 2
}
